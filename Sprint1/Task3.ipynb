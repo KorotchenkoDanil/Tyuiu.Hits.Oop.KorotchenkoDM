{
 "cells": [
  {
   "cell_type": "markdown",
   "metadata": {},
   "source": [
    "<h1 style=\"color:DodgerBlue\">Индивидальный проект</h1>"
   ]
  },
  {
   "cell_type": "markdown",
   "metadata": {},
   "source": [
    "<h2 style=\"color:DodgerBlue\">Название проекта:</h2>\n",
    "\n",
    "----\n",
    "\n",
    "### Вариант задания 5\n"
   ]
  },
  {
   "cell_type": "markdown",
   "metadata": {},
   "source": [
    "<h2 style=\"color:DodgerBlue\">Описание проекта:</h2>\n",
    "\n",
    "----\n",
    "\n",
    "Создать базовый класс Book в C#, который будет представлять информацию о\n",
    "книгах. На основе этого класса разработать 2-3 производных класса,\n",
    "демонстрирующих принципы наследования и полиморфизма. В каждом из классов\n",
    "должны быть реализованы новые атрибуты и методы, а также переопределены\n",
    "некоторые методы базового класса для демонстрации полиморфизма.\n",
    "\n",
    "Требования к базовому классу Book:\n",
    "• Атрибуты: Название (Title), Автор (Author), Год издания (YearOfPublication).\n",
    "• Методы:\n",
    "o GetInfo(): метод для получения информации о книге в виде строки.\n",
    "o Read(): метод для вывода сообщения о чтении книги.\n",
    "o Borrow(): метод для вывода сообщения о выдаче книги на чтение.\n",
    "\n",
    "Требования к производным классам:\n",
    "1. Учебник (Textbook): Должен содержать дополнительные атрибуты, такие как\n",
    "Предмет (Subject). Метод Read() должен быть переопределен для\n",
    "добавления информации о предмете при чтении учебника.\n",
    "2. Художественная литература (Fiction): Должен содержать дополнительные\n",
    "атрибуты, такие как Жанр (Genre). Метод Borrow() должен быть\n",
    "переопределен для добавления информации о жанре при выдаче книги на\n",
    "чтение.\n",
    "3. Научная литература (ScientificLiterature) (если требуется третий класс):\n",
    "Должен содержать дополнительные атрибуты, такие как Область науки\n",
    "(FieldOfScience). Метод GetInfo() должен быть переопределен для включения\n",
    "информации об области науки в описании книги.\n",
    "\n",
    "#### Дополнительное задание\n",
    "Добавьте к сущестующим классам конструктора классов с использованием гетторов и сетторов и реализуйте взаимодействие объектов между собой"
   ]
  },
  {
   "cell_type": "markdown",
   "metadata": {},
   "source": [
    "<h2 style=\"color:DodgerBlue\">Реализация:</h2>\n",
    "\n",
    "----"
   ]
  },
  {
   "cell_type": "code",
   "execution_count": 1,
   "metadata": {
    "dotnet_interactive": {
     "language": "csharp"
    },
    "polyglot_notebook": {
     "kernelName": "csharp"
    }
   },
   "outputs": [],
   "source": [
    "public class Book\n",
    "{\n",
    "    public string Title { get; set; }\n",
    "    public string Author { get; set; }\n",
    "    public int YearOfPublication { get; set; }\n",
    "\n",
    "    public Book(string title, string author, int yearOfPublication)\n",
    "    {\n",
    "        Title = title;\n",
    "        Author = author;\n",
    "        YearOfPublication = yearOfPublication;\n",
    "    }\n",
    "\n",
    "    public virtual string GetInfo()\n",
    "    {\n",
    "        return $\"Title: {Title}, Author: {Author}, Year: {YearOfPublication}\";\n",
    "    }\n",
    "\n",
    "    public virtual void Read()\n",
    "    {\n",
    "        Console.WriteLine($\"Reading the book: {Title}\");\n",
    "    }\n",
    "\n",
    "    public virtual void Borrow()\n",
    "    {\n",
    "        Console.WriteLine($\"Borrowing the book: {Title}\");\n",
    "    }\n",
    "}\n",
    "\n",
    "public class Textbook : Book\n",
    "{\n",
    "    private string subject;\n",
    "    \n",
    "    public string Subject\n",
    "    {\n",
    "        get { return subject; }\n",
    "        set { subject = value; }\n",
    "    }\n",
    "\n",
    "    public Textbook(string title, string author, int yearOfPublication, string subject)\n",
    "        : base(title, author, yearOfPublication)\n",
    "    {\n",
    "        Subject = subject;\n",
    "    }\n",
    "\n",
    "    public override void Read()\n",
    "    {\n",
    "        Console.WriteLine($\"Reading the textbook: {Title} on subject: {Subject}\");\n",
    "    }\n",
    "}\n",
    "\n",
    "public class Fiction : Book\n",
    "{\n",
    "    private string genre;\n",
    "\n",
    "    public string Genre\n",
    "    {\n",
    "        get { return genre; }\n",
    "        set { genre = value; }\n",
    "    }\n",
    "\n",
    "    public Fiction(string title, string author, int yearOfPublication, string genre)\n",
    "        : base(title, author, yearOfPublication)\n",
    "    {\n",
    "        Genre = genre;\n",
    "    }\n",
    "\n",
    "    public override void Borrow()\n",
    "    {\n",
    "        Console.WriteLine($\"Borrowing the fiction book: {Title}, Genre: {Genre}\");\n",
    "    }\n",
    "}\n",
    "\n",
    "public class ScientificLiterature : Book\n",
    "{\n",
    "    private string fieldOfScience;\n",
    "\n",
    "    public string FieldOfScience\n",
    "    {\n",
    "        get { return fieldOfScience; }\n",
    "        set { fieldOfScience = value; }\n",
    "    }\n",
    "\n",
    "    public ScientificLiterature(string title, string author, int yearOfPublication, string fieldOfScience)\n",
    "        : base(title, author, yearOfPublication)\n",
    "    {\n",
    "        FieldOfScience = fieldOfScience;\n",
    "    }\n",
    "\n",
    "    public override string GetInfo()\n",
    "    {\n",
    "        return base.GetInfo() + $\", Field of Science: {FieldOfScience}\";\n",
    "    }\n",
    "}\n",
    "\n",
    "public class Library\n",
    "{\n",
    "    private Textbook textbook = new Textbook(\"Pro C# 10 with .NET 6\", \"Andrew Troelsen, Phil Japikse\", 2022, \"Programming\");\n",
    "    private Fiction fiction = new Fiction(\"Fahrenheit 451\", \"Ray Bradbury\", 1953, \"science fiction\");\n",
    "    private ScientificLiterature scientificliterature = new ScientificLiterature(\"The Origin of Species\", \"Charles Darwin\", 1859, \"evolutionary biology\");\n",
    "\n",
    "    public void AddBook(Book book)\n",
    "    {\n",
    "        Console.WriteLine($\"Added: {textbook.Title} to the library.\");\n",
    "        Console.WriteLine($\"Added: {fiction.Title} to the library.\");\n",
    "        Console.WriteLine($\"Added: {scientificliterature.Title} to the library.\");\n",
    "    }\n",
    "}"
   ]
  }
 ],
 "metadata": {
  "kernelspec": {
   "display_name": ".NET (C#)",
   "language": "C#",
   "name": ".net-csharp"
  },
  "polyglot_notebook": {
   "kernelInfo": {
    "defaultKernelName": "csharp",
    "items": [
     {
      "aliases": [],
      "languageName": "csharp",
      "name": "csharp"
     }
    ]
   }
  }
 },
 "nbformat": 4,
 "nbformat_minor": 2
}
